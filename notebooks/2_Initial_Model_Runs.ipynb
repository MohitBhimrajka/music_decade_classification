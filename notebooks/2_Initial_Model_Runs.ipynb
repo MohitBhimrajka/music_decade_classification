{
 "cells": [
  {
   "cell_type": "code",
   "execution_count": 2,
   "metadata": {},
   "outputs": [],
   "source": [
    "import torch\n",
    "import torch.nn as nn\n",
    "import torch.optim as optim\n",
    "from torch.utils.data import TensorDataset, DataLoader\n",
    "import matplotlib.pyplot as plt\n",
    "import numpy as np\n",
    "import sys\n",
    "import os\n",
    "import time\n",
    "\n",
    "# Ensure the src directory is in the Python path\n",
    "# Adjust the path '..' if your notebook is in a different location relative to src\n",
    "module_path = os.path.abspath(os.path.join('..', 'src'))\n",
    "if module_path not in sys.path:\n",
    "    sys.path.append(module_path)\n",
    "\n",
    "# Import modules from src\n",
    "from utils import load_processed_data\n",
    "from models import Model_1, Model_2, Model_3"
   ]
  },
  {
   "cell_type": "code",
   "execution_count": null,
   "metadata": {},
   "outputs": [],
   "source": [
    "# --- Configuration ---\n",
    "BATCH_SIZE = 128 # Reasonable batch size (can try 64, 256)\n",
    "LEARNING_RATE = 1e-3 # A common default starting LR for Adam\n",
    "N_MINIBATCHES = 15\n",
    "DEVICE = torch.device(\"cuda\" if torch.cuda.is_available() else \"mps\" if torch.backends.mps.is_available() else \"cpu\")\n",
    "print(f\"Using device: {DEVICE}\")"
   ]
  },
  {
   "cell_type": "code",
   "execution_count": null,
   "metadata": {},
   "outputs": [],
   "source": [
    "# --- Load Data ---\n",
    "print(\"Loading data...\")\n",
    "X_train, y_train, X_val, y_val, _, _ = load_processed_data()\n",
    "print(\"Data loaded.\")"
   ]
  },
  {
   "cell_type": "code",
   "execution_count": 5,
   "metadata": {},
   "outputs": [],
   "source": [
    "# Create datasets\n",
    "train_dataset = TensorDataset(X_train, y_train)\n",
    "val_dataset = TensorDataset(X_val, y_val)"
   ]
  },
  {
   "cell_type": "code",
   "execution_count": 6,
   "metadata": {},
   "outputs": [],
   "source": [
    "# Create dataloaders\n",
    "# Use shuffle=True for training to ensure batches are different each epoch\n",
    "train_loader = DataLoader(train_dataset, batch_size=BATCH_SIZE, shuffle=True)\n",
    "# No need to shuffle validation data\n",
    "val_loader = DataLoader(val_dataset, batch_size=BATCH_SIZE * 2) # Larger batch size for faster validation"
   ]
  },
  {
   "cell_type": "code",
   "execution_count": 7,
   "metadata": {},
   "outputs": [],
   "source": [
    "# --- Define Training and Evaluation Functions ---\n",
    "\n",
    "def train_one_step(model, batch, criterion, optimizer, device):\n",
    "    \"\"\"Performs a single training step (forward pass, loss calc, backward pass, optimizer step).\"\"\"\n",
    "    model.train() # Set model to training mode\n",
    "    inputs, targets = batch\n",
    "    inputs, targets = inputs.to(device), targets.to(device)\n",
    "\n",
    "    # Zero gradients\n",
    "    optimizer.zero_grad()\n",
    "\n",
    "    # Forward pass\n",
    "    outputs = model(inputs)\n",
    "    loss = criterion(outputs, targets)\n",
    "\n",
    "    # Backward pass and optimize\n",
    "    loss.backward()\n",
    "    optimizer.step()\n",
    "\n",
    "    return loss.item()"
   ]
  },
  {
   "cell_type": "code",
   "execution_count": 8,
   "metadata": {},
   "outputs": [],
   "source": [
    "def evaluate(model, loader, criterion, device):\n",
    "    \"\"\"Evaluates the model on the given data loader.\"\"\"\n",
    "    model.eval() # Set model to evaluation mode\n",
    "    total_loss = 0.0\n",
    "    correct_predictions = 0\n",
    "    total_samples = 0\n",
    "\n",
    "    with torch.no_grad(): # Disable gradient calculations during evaluation\n",
    "        for batch in loader:\n",
    "            inputs, targets = batch\n",
    "            inputs, targets = inputs.to(device), targets.to(device)\n",
    "\n",
    "            # Forward pass\n",
    "            outputs = model(inputs)\n",
    "            loss = criterion(outputs, targets)\n",
    "\n",
    "            total_loss += loss.item() * inputs.size(0) # Accumulate loss weighted by batch size\n",
    "\n",
    "            # Calculate accuracy\n",
    "            _, predicted = torch.max(outputs.data, 1)\n",
    "            total_samples += targets.size(0)\n",
    "            correct_predictions += (predicted == targets).sum().item()\n",
    "\n",
    "    avg_loss = total_loss / total_samples\n",
    "    accuracy = correct_predictions / total_samples\n",
    "    return avg_loss, accuracy"
   ]
  },
  {
   "cell_type": "code",
   "execution_count": 9,
   "metadata": {},
   "outputs": [],
   "source": [
    "# --- Experiment Setup ---\n",
    "model_architectures = {\n",
    "    \"Model_1 (128x128)\": Model_1,\n",
    "    \"Model_2 (256x256)\": Model_2,\n",
    "    \"Model_3 (256x128x64)\": Model_3\n",
    "}\n",
    "\n",
    "results = {} # To store losses per mini-batch and final validation metrics\n",
    "\n",
    "criterion = nn.CrossEntropyLoss()"
   ]
  },
  {
   "cell_type": "code",
   "execution_count": null,
   "metadata": {},
   "outputs": [],
   "source": [
    "# --- Run Experiments ---\n",
    "\n",
    "for name, ModelClass in model_architectures.items():\n",
    "    print(f\"\\n--- Running Experiment for: {name} ---\")\n",
    "    model = ModelClass().to(DEVICE)\n",
    "    print(model) # Print architecture details\n",
    "\n",
    "    # Use Adam optimizer with a default learning rate\n",
    "    optimizer = optim.Adam(model.parameters(), lr=LEARNING_RATE)\n",
    "\n",
    "    # Store losses for each mini-batch for this model\n",
    "    minibatch_losses = []\n",
    "    start_time = time.time()\n",
    "\n",
    "    # Training loop for N_MINIBATCHES\n",
    "    batch_count = 0\n",
    "    # Use an iterator to manually fetch batches\n",
    "    train_iter = iter(train_loader)\n",
    "\n",
    "    while batch_count < N_MINIBATCHES:\n",
    "        try:\n",
    "            batch = next(train_iter)\n",
    "        except StopIteration:\n",
    "            # If the dataloader runs out, reset it (shouldn't happen with only 15 batches usually)\n",
    "            train_iter = iter(train_loader)\n",
    "            batch = next(train_iter)\n",
    "\n",
    "        loss = train_one_step(model, batch, criterion, optimizer, DEVICE)\n",
    "        minibatch_losses.append(loss)\n",
    "        batch_count += 1\n",
    "        # Optional: Print progress\n",
    "        if (batch_count % 5 == 0) or (batch_count == N_MINIBATCHES):\n",
    "             print(f\"  Batch {batch_count}/{N_MINIBATCHES}, Loss: {loss:.4f}\")\n",
    "\n",
    "    end_time = time.time()\n",
    "    training_time = end_time - start_time\n",
    "\n",
    "    # Evaluate on the validation set after 15 mini-batches\n",
    "    print(f\"Evaluating {name} on validation set...\")\n",
    "    val_loss, val_accuracy = evaluate(model, val_loader, criterion, DEVICE)\n",
    "    print(f\"  Validation Loss: {val_loss:.4f}, Validation Accuracy: {val_accuracy:.4f}\")\n",
    "    print(f\"  Training Time for {N_MINIBATCHES} batches: {training_time:.2f} seconds\")\n",
    "\n",
    "    # Store results\n",
    "    results[name] = {\n",
    "        'minibatch_losses': minibatch_losses,\n",
    "        'val_loss': val_loss,\n",
    "        'val_accuracy': val_accuracy,\n",
    "        'training_time': training_time\n",
    "    }\n"
   ]
  },
  {
   "cell_type": "code",
   "execution_count": null,
   "metadata": {},
   "outputs": [],
   "source": [
    "# --- Analysis and Visualization ---\n",
    "\n",
    "# Plot mini-batch losses\n",
    "plt.figure(figsize=(12, 6))\n",
    "for name, data in results.items():\n",
    "    plt.plot(range(1, N_MINIBATCHES + 1), data['minibatch_losses'], label=f\"{name} Train Loss\")"
   ]
  },
  {
   "cell_type": "code",
   "execution_count": null,
   "metadata": {},
   "outputs": [],
   "source": [
    "plt.xlabel(\"Mini-batch Number\")\n",
    "plt.ylabel(\"Training Loss\")\n",
    "plt.title(\"Training Loss per Mini-batch (First 15 Batches)\")\n",
    "plt.legend()\n",
    "plt.grid(True)\n",
    "plt.xticks(range(1, N_MINIBATCHES + 1))\n",
    "plt.tight_layout()\n",
    "plt.show()"
   ]
  },
  {
   "cell_type": "code",
   "execution_count": null,
   "metadata": {},
   "outputs": [],
   "source": [
    "# Print summary table\n",
    "print(\"\\n--- Summary of Initial Runs (15 Mini-batches) ---\")\n",
    "print(f\"{'Architecture':<25} | {'Final Val Loss':<15} | {'Final Val Accuracy':<18} | {'Training Time (s)':<15}\")\n",
    "print(\"-\" * 80)\n",
    "for name, data in results.items():\n",
    "    print(f\"{name:<25} | {data['val_loss']:.4f}{' ':<10} | {data['val_accuracy']:.4f}{' ':<13} | {data['training_time']:.2f}\")"
   ]
  },
  {
   "cell_type": "code",
   "execution_count": 14,
   "metadata": {},
   "outputs": [],
   "source": [
    "# --- Select Best Performing Architecture ---\n",
    "# Based on validation accuracy primarily, and considering loss trajectory\n",
    "best_model_name = \"\"\n",
    "best_val_accuracy = -1.0\n",
    "\n",
    "for name, data in results.items():\n",
    "    if data['val_accuracy'] > best_val_accuracy:\n",
    "        best_val_accuracy = data['val_accuracy']\n",
    "        best_model_name = name\n",
    "    # Could add tie-breaking logic using val_loss if needed"
   ]
  },
  {
   "cell_type": "code",
   "execution_count": null,
   "metadata": {},
   "outputs": [],
   "source": [
    "print(f\"\\nBased on initial validation accuracy, the best performing architecture appears to be: {best_model_name}\")\n",
    "print(\"(Note: This is based on very limited training. Further training is needed for confirmation)\")"
   ]
  }
 ],
 "metadata": {
  "kernelspec": {
   "display_name": "base",
   "language": "python",
   "name": "python3"
  },
  "language_info": {
   "codemirror_mode": {
    "name": "ipython",
    "version": 3
   },
   "file_extension": ".py",
   "mimetype": "text/x-python",
   "name": "python",
   "nbconvert_exporter": "python",
   "pygments_lexer": "ipython3",
   "version": "3.12.2"
  }
 },
 "nbformat": 4,
 "nbformat_minor": 2
}
